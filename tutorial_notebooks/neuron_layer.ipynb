{
 "cells": [
  {
   "attachments": {},
   "cell_type": "markdown",
   "id": "701613ae",
   "metadata": {},
   "source": [
    "# Notebook content overview"
   ]
  },
  {
   "attachments": {},
   "cell_type": "markdown",
   "id": "ec355511",
   "metadata": {},
   "source": [
    "This notebook ocntains the application of the linear transformation required to extract the layer to which each functionally matched cell belongs to.\n",
    "\n",
    "    NOTE: In this notebook the file clean_functional_neurons.pkl is saved\n",
    "    NOTE: In this notebook func_neuronsl234.csv is saved containing only neurons from layer 2/3 and layer 4"
   ]
  },
  {
   "attachments": {},
   "cell_type": "markdown",
   "id": "fa688e3d-0a99-470f-a24b-264ab00f0a63",
   "metadata": {},
   "source": [
    "# Imports"
   ]
  },
  {
   "cell_type": "code",
   "execution_count": 1,
   "id": "79744ef1-c0bb-4088-b2c4-0cbfd6ba5948",
   "metadata": {},
   "outputs": [
    {
     "name": "stdout",
     "output_type": "stream",
     "text": [
      "Connecting microns@db.datajoint.com:3306\n",
      "Defaulting to user installation because normal site-packages is not writeable\n",
      "Requirement already satisfied: standard-transform in /home/vscode/.local/lib/python3.9/site-packages (1.4.0)\n",
      "Requirement already satisfied: pandas in /home/vscode/.local/lib/python3.9/site-packages (from standard-transform) (2.0.2)\n",
      "Requirement already satisfied: scipy in /home/vscode/.local/lib/python3.9/site-packages (from standard-transform) (1.10.1)\n",
      "Requirement already satisfied: numpy in /home/vscode/.local/lib/python3.9/site-packages (from standard-transform) (1.24.3)\n",
      "Requirement already satisfied: pytz>=2020.1 in /usr/local/lib/python3.9/site-packages (from pandas->standard-transform) (2023.3)\n",
      "Requirement already satisfied: tzdata>=2022.1 in /usr/local/lib/python3.9/site-packages (from pandas->standard-transform) (2023.3)\n",
      "Requirement already satisfied: python-dateutil>=2.8.2 in /usr/local/lib/python3.9/site-packages (from pandas->standard-transform) (2.8.2)\n",
      "Requirement already satisfied: six>=1.5 in /usr/local/lib/python3.9/site-packages (from python-dateutil>=2.8.2->pandas->standard-transform) (1.16.0)\n",
      "\n",
      "\u001b[1m[\u001b[0m\u001b[34;49mnotice\u001b[0m\u001b[1;39;49m]\u001b[0m\u001b[39;49m A new release of pip is available: \u001b[0m\u001b[31;49m23.0.1\u001b[0m\u001b[39;49m -> \u001b[0m\u001b[32;49m23.2.1\u001b[0m\n",
      "\u001b[1m[\u001b[0m\u001b[34;49mnotice\u001b[0m\u001b[1;39;49m]\u001b[0m\u001b[39;49m To update, run: \u001b[0m\u001b[32;49mpip install --upgrade pip\u001b[0m\n"
     ]
    }
   ],
   "source": [
    "import random\n",
    "import datajoint as dj\n",
    "from phase3 import nda, func, utils\n",
    "import numpy as np\n",
    "import matplotlib.pyplot as plt\n",
    "import pandas as pd\n",
    "from tqdm.auto import tqdm\n",
    "from collections import defaultdict\n",
    "from PIL import Image\n",
    "import warnings\n",
    "import pickle\n",
    "import os\n",
    "from caveclient import CAVEclient\n",
    "import nglui\n",
    "!pip install standard-transform\n",
    "from standard_transform import minnie_transform_vx"
   ]
  },
  {
   "cell_type": "markdown",
   "id": "b0b00841",
   "metadata": {},
   "source": [
    "### CAVE client set up"
   ]
  },
  {
   "cell_type": "code",
   "execution_count": 2,
   "id": "490dbd5a",
   "metadata": {},
   "outputs": [
    {
     "name": "stdout",
     "output_type": "stream",
     "text": [
      "New Tokens need to be acquired by hand. Please follow the following steps:\n",
      "                1) Go to: https://global.daf-apis.com/auth/api/v1/create_token to create a new token.\n",
      "                2) Log in with your Google credentials and copy the token shown afterward.\n",
      "                3a) Save it to your computer with: client.auth.save_token(token=\"PASTE_YOUR_TOKEN_HERE\")\n",
      "                or\n",
      "                3b) Set it for the current session only with client.auth.token = \"PASTE_YOUR_TOKEN_HERE\"\n",
      "                Note: If you need to save or load multiple tokens, please read the documentation for details.\n",
      "                Warning! Creating a new token by finishing step 2 will invalidate the previous token!\n"
     ]
    }
   ],
   "source": [
    "client = CAVEclient()\n",
    "auth = client.auth\n",
    "auth.get_new_token()"
   ]
  },
  {
   "cell_type": "code",
   "execution_count": 1,
   "id": "b362dfb7",
   "metadata": {},
   "outputs": [],
   "source": [
    "#This should be replaced with the token you see after you visit the website.\n",
    "new_token = ''\n",
    "auth.save_token(token=new_token)"
   ]
  },
  {
   "cell_type": "code",
   "execution_count": 5,
   "id": "6c4e9037",
   "metadata": {},
   "outputs": [],
   "source": [
    "#Connect to CaveClient\n",
    "client = CAVEclient('minnie65_public_v343')"
   ]
  },
  {
   "cell_type": "code",
   "execution_count": 6,
   "id": "231895a2",
   "metadata": {},
   "outputs": [
    {
     "name": "stderr",
     "output_type": "stream",
     "text": [
      "Using deprecated pyarrow serialization method, please upgrade CAVEClient>=5.9.0 with pip install --upgrade caveclient\n"
     ]
    }
   ],
   "source": [
    "func_data=client.materialize.query_table('functional_coreg')"
   ]
  },
  {
   "cell_type": "markdown",
   "id": "590b5b48",
   "metadata": {},
   "source": [
    "# Extracting layers of functional cells"
   ]
  },
  {
   "cell_type": "code",
   "execution_count": 7,
   "id": "a0edc7f6",
   "metadata": {},
   "outputs": [
    {
     "name": "stderr",
     "output_type": "stream",
     "text": [
      "Using deprecated pyarrow serialization method, please upgrade CAVEClient>=5.9.0 with pip install --upgrade caveclient\n"
     ]
    }
   ],
   "source": [
    "#Define transform and import CAVE data on functionally matched cells\n",
    "tform_vx = minnie_transform_vx()\n",
    "func_data=client.materialize.query_table('functional_coreg')\n",
    "\n",
    "#Find the area of the cortex the cells belong to (V1 or HVA)\n",
    "cortex_area = nda.AreaMembership.fetch(format = 'frame').reset_index()"
   ]
  },
  {
   "cell_type": "code",
   "execution_count": 8,
   "id": "007315e5",
   "metadata": {},
   "outputs": [
    {
     "data": {
      "text/html": [
       "<div>\n",
       "<style scoped>\n",
       "    .dataframe tbody tr th:only-of-type {\n",
       "        vertical-align: middle;\n",
       "    }\n",
       "\n",
       "    .dataframe tbody tr th {\n",
       "        vertical-align: top;\n",
       "    }\n",
       "\n",
       "    .dataframe thead th {\n",
       "        text-align: right;\n",
       "    }\n",
       "</style>\n",
       "<table border=\"1\" class=\"dataframe\">\n",
       "  <thead>\n",
       "    <tr style=\"text-align: right;\">\n",
       "      <th></th>\n",
       "      <th>pt_root_id</th>\n",
       "      <th>session</th>\n",
       "      <th>scan_idx</th>\n",
       "      <th>unit_id</th>\n",
       "      <th>pt_position</th>\n",
       "    </tr>\n",
       "  </thead>\n",
       "  <tbody>\n",
       "    <tr>\n",
       "      <th>0</th>\n",
       "      <td>864691136136642173</td>\n",
       "      <td>4</td>\n",
       "      <td>7</td>\n",
       "      <td>665</td>\n",
       "      <td>[274864, 94064, 22046]</td>\n",
       "    </tr>\n",
       "    <tr>\n",
       "      <th>1</th>\n",
       "      <td>864691136208993724</td>\n",
       "      <td>4</td>\n",
       "      <td>7</td>\n",
       "      <td>740</td>\n",
       "      <td>[218320, 104320, 19016]</td>\n",
       "    </tr>\n",
       "    <tr>\n",
       "      <th>2</th>\n",
       "      <td>864691135683934135</td>\n",
       "      <td>4</td>\n",
       "      <td>7</td>\n",
       "      <td>782</td>\n",
       "      <td>[212128, 94544, 23423]</td>\n",
       "    </tr>\n",
       "    <tr>\n",
       "      <th>3</th>\n",
       "      <td>864691135334528233</td>\n",
       "      <td>4</td>\n",
       "      <td>7</td>\n",
       "      <td>855</td>\n",
       "      <td>[145158, 110036, 19355]</td>\n",
       "    </tr>\n",
       "    <tr>\n",
       "      <th>4</th>\n",
       "      <td>864691136309730650</td>\n",
       "      <td>4</td>\n",
       "      <td>7</td>\n",
       "      <td>921</td>\n",
       "      <td>[335744, 90128, 22805]</td>\n",
       "    </tr>\n",
       "  </tbody>\n",
       "</table>\n",
       "</div>"
      ],
      "text/plain": [
       "           pt_root_id  session  scan_idx  unit_id              pt_position\n",
       "0  864691136136642173        4         7      665   [274864, 94064, 22046]\n",
       "1  864691136208993724        4         7      740  [218320, 104320, 19016]\n",
       "2  864691135683934135        4         7      782   [212128, 94544, 23423]\n",
       "3  864691135334528233        4         7      855  [145158, 110036, 19355]\n",
       "4  864691136309730650        4         7      921   [335744, 90128, 22805]"
      ]
     },
     "execution_count": 8,
     "metadata": {},
     "output_type": "execute_result"
    }
   ],
   "source": [
    "# Drop cells that were incorrectly extracted and that present duplicated entries\n",
    "func_data = func_data[func_data['pt_root_id'] != 0]\n",
    "func_data=func_data.drop_duplicates(subset = 'pt_root_id').iloc[:, 3:]\n",
    "func_data.head()"
   ]
  },
  {
   "cell_type": "markdown",
   "id": "30091ffe",
   "metadata": {},
   "source": [
    "Layer membership was classified by depth of imaged soma with respect to the dura mater in the structural two-photon stack (Ding et al. 2023): \n",
    "\n",
    "L1: 0 − 98 μm; \n",
    "\n",
    "L2/3: 98 − 283 μm; \n",
    "\n",
    "L4: 283 − 371 μm; \n",
    "\n",
    "L5: 371 − 574 μm; \n",
    "\n",
    "L6: 574 − 713 μm"
   ]
  },
  {
   "cell_type": "code",
   "execution_count": 9,
   "id": "3aaa16d7",
   "metadata": {},
   "outputs": [],
   "source": [
    "#Apply the transform and save it in a new column\n",
    "func_data['pial_distances'] = tform_vx.apply(func_data['pt_position'])\n",
    "\n",
    "#Use the y axis value to assign the corresponding layer as per Ding et al. 2023\n",
    "layers = []\n",
    "for i in func_data['pial_distances'].iloc[:]:\n",
    "    if 0<i[1]<=98:\n",
    "        layers.append('L1')\n",
    "    elif 98<i[1]<=283:\n",
    "        layers.append('L2/3')\n",
    "    elif 283<i[1]<=371:\n",
    "        layers.append('L4')\n",
    "    elif 371<i[1]<=574:\n",
    "        layers.append('L5')\n",
    "    elif 574<i[1]<=713:\n",
    "        layers.append('L6')\n",
    "\n",
    "func_data['cortex_layer'] = layers    "
   ]
  },
  {
   "cell_type": "code",
   "execution_count": 10,
   "id": "d86693e6",
   "metadata": {},
   "outputs": [
    {
     "data": {
      "text/html": [
       "<div>\n",
       "<style scoped>\n",
       "    .dataframe tbody tr th:only-of-type {\n",
       "        vertical-align: middle;\n",
       "    }\n",
       "\n",
       "    .dataframe tbody tr th {\n",
       "        vertical-align: top;\n",
       "    }\n",
       "\n",
       "    .dataframe thead th {\n",
       "        text-align: right;\n",
       "    }\n",
       "</style>\n",
       "<table border=\"1\" class=\"dataframe\">\n",
       "  <thead>\n",
       "    <tr style=\"text-align: right;\">\n",
       "      <th></th>\n",
       "      <th>pt_root_id</th>\n",
       "      <th>session</th>\n",
       "      <th>scan_idx</th>\n",
       "      <th>unit_id</th>\n",
       "      <th>pt_position</th>\n",
       "      <th>pial_distances</th>\n",
       "      <th>cortex_layer</th>\n",
       "    </tr>\n",
       "  </thead>\n",
       "  <tbody>\n",
       "    <tr>\n",
       "      <th>0</th>\n",
       "      <td>864691136136642173</td>\n",
       "      <td>4</td>\n",
       "      <td>7</td>\n",
       "      <td>665</td>\n",
       "      <td>[274864, 94064, 22046]</td>\n",
       "      <td>[1062.4793668418956, 73.97710441329255, 881.84...</td>\n",
       "      <td>L1</td>\n",
       "    </tr>\n",
       "    <tr>\n",
       "      <th>1</th>\n",
       "      <td>864691136208993724</td>\n",
       "      <td>4</td>\n",
       "      <td>7</td>\n",
       "      <td>740</td>\n",
       "      <td>[218320, 104320, 19016]</td>\n",
       "      <td>[833.5885576158169, 95.13245843611396, 760.640...</td>\n",
       "      <td>L1</td>\n",
       "    </tr>\n",
       "    <tr>\n",
       "      <th>2</th>\n",
       "      <td>864691135683934135</td>\n",
       "      <td>4</td>\n",
       "      <td>7</td>\n",
       "      <td>782</td>\n",
       "      <td>[212128, 94544, 23423]</td>\n",
       "      <td>[812.3229454978849, 54.01858752556035, 936.920...</td>\n",
       "      <td>L1</td>\n",
       "    </tr>\n",
       "    <tr>\n",
       "      <th>3</th>\n",
       "      <td>864691135334528233</td>\n",
       "      <td>4</td>\n",
       "      <td>7</td>\n",
       "      <td>855</td>\n",
       "      <td>[145158, 110036, 19355]</td>\n",
       "      <td>[540.0614427064812, 92.40350020966703, 774.200...</td>\n",
       "      <td>L1</td>\n",
       "    </tr>\n",
       "    <tr>\n",
       "      <th>4</th>\n",
       "      <td>864691136309730650</td>\n",
       "      <td>4</td>\n",
       "      <td>7</td>\n",
       "      <td>921</td>\n",
       "      <td>[335744, 90128, 22805]</td>\n",
       "      <td>[1306.4448797350165, 79.51718156044586, 912.20...</td>\n",
       "      <td>L1</td>\n",
       "    </tr>\n",
       "  </tbody>\n",
       "</table>\n",
       "</div>"
      ],
      "text/plain": [
       "           pt_root_id  session  scan_idx  unit_id              pt_position  \\\n",
       "0  864691136136642173        4         7      665   [274864, 94064, 22046]   \n",
       "1  864691136208993724        4         7      740  [218320, 104320, 19016]   \n",
       "2  864691135683934135        4         7      782   [212128, 94544, 23423]   \n",
       "3  864691135334528233        4         7      855  [145158, 110036, 19355]   \n",
       "4  864691136309730650        4         7      921   [335744, 90128, 22805]   \n",
       "\n",
       "                                      pial_distances cortex_layer  \n",
       "0  [1062.4793668418956, 73.97710441329255, 881.84...           L1  \n",
       "1  [833.5885576158169, 95.13245843611396, 760.640...           L1  \n",
       "2  [812.3229454978849, 54.01858752556035, 936.920...           L1  \n",
       "3  [540.0614427064812, 92.40350020966703, 774.200...           L1  \n",
       "4  [1306.4448797350165, 79.51718156044586, 912.20...           L1  "
      ]
     },
     "execution_count": 10,
     "metadata": {},
     "output_type": "execute_result"
    }
   ],
   "source": [
    "func_data.head()"
   ]
  },
  {
   "cell_type": "code",
   "execution_count": 11,
   "id": "72623cd3",
   "metadata": {},
   "outputs": [],
   "source": [
    "#Subset only columns of interest\n",
    "func_data_pos = func_data.copy()\n",
    "func_data = func_data.iloc[:, [0,1,2,3,6]]\n",
    "\n",
    "#Add information on the brain area\n",
    "func_data = func_data.merge(cortex_area, on = ['session', 'scan_idx', 'unit_id'], how = 'left')\n",
    "func_data_pos = func_data_pos.merge(cortex_area, on = ['session', 'scan_idx', 'unit_id'], how = 'left')"
   ]
  },
  {
   "cell_type": "code",
   "execution_count": 12,
   "id": "b06bdd3b",
   "metadata": {},
   "outputs": [],
   "source": [
    "#Save the data\n",
    "#func_data.to_pickle('clean_functional_neurons.pkl')\n",
    "func_data_pos.to_pickle('clean_functional_locations.pkl')"
   ]
  },
  {
   "cell_type": "code",
   "execution_count": 50,
   "id": "91be51db",
   "metadata": {},
   "outputs": [],
   "source": [
    "func_complete = pd.read_pickle('../analysis_v2/Data/clean_functional_neurons.pkl')"
   ]
  },
  {
   "cell_type": "code",
   "execution_count": 70,
   "id": "f7448465",
   "metadata": {},
   "outputs": [],
   "source": [
    "#Extracting only cells from layer 2,3,4\n",
    "func_l234 = func_complete[(func_complete['cortex_layer'] == 'L2/3') | (func_complete['cortex_layer'] == 'L4')]"
   ]
  },
  {
   "cell_type": "code",
   "execution_count": 71,
   "id": "316aba79",
   "metadata": {},
   "outputs": [],
   "source": [
    "#func_l234.to_csv('func_neuronsl234.csv', index = False)"
   ]
  }
 ],
 "metadata": {
  "kernelspec": {
   "display_name": "Python 3 (ipykernel)",
   "language": "python",
   "name": "python3"
  },
  "language_info": {
   "codemirror_mode": {
    "name": "ipython",
    "version": 3
   },
   "file_extension": ".py",
   "mimetype": "text/x-python",
   "name": "python",
   "nbconvert_exporter": "python",
   "pygments_lexer": "ipython3",
   "version": "3.10.8"
  }
 },
 "nbformat": 4,
 "nbformat_minor": 5
}
