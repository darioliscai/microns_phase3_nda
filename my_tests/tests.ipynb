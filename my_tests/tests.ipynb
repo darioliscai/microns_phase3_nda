{
 "cells": [
  {
   "cell_type": "code",
   "execution_count": 1,
   "metadata": {},
   "outputs": [
    {
     "name": "stdout",
     "output_type": "stream",
     "text": [
      "Connecting root@database:3306\n"
     ]
    },
    {
     "name": "stderr",
     "output_type": "stream",
     "text": [
      "/usr/local/lib/python3.9/site-packages/tqdm/auto.py:21: TqdmWarning: IProgress not found. Please update jupyter and ipywidgets. See https://ipywidgets.readthedocs.io/en/stable/user_install.html\n",
      "  from .autonotebook import tqdm as notebook_tqdm\n"
     ]
    }
   ],
   "source": [
    "import datajoint as dj\n",
    "from microns_phase3 import nda, utils\n"
   ]
  },
  {
   "cell_type": "code",
   "execution_count": 2,
   "metadata": {},
   "outputs": [],
   "source": [
    "import pandas as pd\n",
    "import numpy as np\n",
    "import matplotlib.pyplot as plt\n",
    "from sklearn.decomposition import PCA\n",
    "import seaborn as sns"
   ]
  },
  {
   "cell_type": "code",
   "execution_count": 3,
   "metadata": {},
   "outputs": [],
   "source": [
    "from PCA.CvPCA import CvPCA"
   ]
  },
  {
   "cell_type": "code",
   "execution_count": 4,
   "metadata": {},
   "outputs": [],
   "source": [
    "def cvPCA(X):\n",
    "    ''' X is 2 x stimuli x neurons '''\n",
    "    pca = PCA(n_components=min(1024, X.shape[1])).fit(X[0].T)\n",
    "    u = pca.components_.T\n",
    "    sv = pca.singular_values_\n",
    "    \n",
    "    xproj = X[0].T @ (u / sv)\n",
    "    cproj0 = X[0] @ xproj\n",
    "    cproj1 = X[1] @ xproj\n",
    "    ss = (cproj0 * cproj1).sum(axis=0)\n",
    "    return ss"
   ]
  },
  {
   "cell_type": "code",
   "execution_count": 28,
   "metadata": {},
   "outputs": [],
   "source": [
    "a = np.random.rand(2,100, 100)"
   ]
  },
  {
   "cell_type": "code",
   "execution_count": 30,
   "metadata": {},
   "outputs": [],
   "source": [
    "ss = cvPCA(a)"
   ]
  },
  {
   "cell_type": "code",
   "execution_count": 33,
   "metadata": {},
   "outputs": [
    {
     "data": {
      "text/plain": [
       "array([3.64453263e-32, 2.45599241e-33, 4.86336428e-31, 6.75698692e-31,\n",
       "       1.35211606e-30, 5.12422497e-31, 3.14922030e-30, 5.13936653e-33,\n",
       "       1.74021102e-30, 1.87701889e-30, 7.21644732e-30, 5.62234309e-30,\n",
       "       5.89779953e-32, 4.55624506e-30, 1.69777821e-31, 7.08380810e-31,\n",
       "       2.50418350e-30, 1.22123171e-31, 1.18021177e-30, 1.83088859e-30,\n",
       "       6.44306788e-30, 4.27838738e-31, 1.27084905e-31, 1.23855113e-30,\n",
       "       9.01745217e-30, 3.28894962e-30, 8.44643785e-31, 4.09799959e-32,\n",
       "       1.77640044e-29, 7.88196241e-31, 7.12250840e-32, 1.77462189e-29,\n",
       "       7.39530909e-30, 1.24312255e-31, 4.04573345e-31, 1.74443873e-29,\n",
       "       2.49441072e-30, 1.32160218e-32, 1.24972807e-31, 2.60198280e-30,\n",
       "       4.46018650e-30, 5.69304140e-31, 1.13693265e-31, 3.27648364e-30,\n",
       "       1.48974213e-30, 7.00310321e-32, 6.06135038e-30, 3.00153187e-30,\n",
       "       1.39335609e-29, 6.13409065e-31, 3.68905205e-30, 4.50185066e-31,\n",
       "       1.50910635e-29, 1.01987272e-30, 2.06987305e-29, 2.07339908e-30,\n",
       "       2.92757642e-30, 1.20592799e-29, 1.04548259e-29, 5.95490912e-32,\n",
       "       4.65103700e-30, 1.18955491e-29, 5.91359124e-32, 9.78990736e-31,\n",
       "       7.21247198e-29, 2.17791959e-29, 1.57633277e-30, 5.36595491e-30,\n",
       "       1.17437152e-33, 6.31931908e-32, 5.49988863e-31, 7.95590056e-30,\n",
       "       4.21573581e-29, 5.79444898e-29, 2.07128180e-30, 6.45352078e-29,\n",
       "       1.00940180e-29, 9.09069509e-29, 5.21906821e-30, 9.77185652e-30,\n",
       "       2.49821586e-28, 4.88878989e-29, 9.71080432e-29, 3.32333713e-30,\n",
       "       6.42004285e-28, 4.52794306e-29, 7.02750434e-29, 1.04548803e-29,\n",
       "       5.60149538e-30, 2.38279463e-29, 2.92903050e-28, 1.80276565e-28,\n",
       "       3.50343688e-30, 9.43868760e-28, 3.19361717e-27, 4.98101925e-29,\n",
       "       1.37584598e-27, 2.95779101e-26, 8.83977886e-26, 1.00000000e+00])"
      ]
     },
     "execution_count": 33,
     "metadata": {},
     "output_type": "execute_result"
    }
   ],
   "source": [
    "ss / ss.sum()"
   ]
  },
  {
   "cell_type": "code",
   "execution_count": 6,
   "metadata": {},
   "outputs": [
    {
     "data": {
      "text/plain": [
       "array([[[ 0,  1,  2],\n",
       "        [ 3,  4,  5],\n",
       "        [ 6,  7,  8]],\n",
       "\n",
       "       [[ 9, 10, 11],\n",
       "        [12, 13, 14],\n",
       "        [15, 16, 17]]])"
      ]
     },
     "execution_count": 6,
     "metadata": {},
     "output_type": "execute_result"
    }
   ],
   "source": [
    "a.reshape((2,3,3))"
   ]
  },
  {
   "cell_type": "code",
   "execution_count": 79,
   "metadata": {},
   "outputs": [],
   "source": [
    "cell_id = pd.read_pickle(\"data/clean_functional_neurons.pkl\")"
   ]
  },
  {
   "cell_type": "code",
   "execution_count": 80,
   "metadata": {},
   "outputs": [
    {
     "data": {
      "text/html": [
       "<div>\n",
       "<style scoped>\n",
       "    .dataframe tbody tr th:only-of-type {\n",
       "        vertical-align: middle;\n",
       "    }\n",
       "\n",
       "    .dataframe tbody tr th {\n",
       "        vertical-align: top;\n",
       "    }\n",
       "\n",
       "    .dataframe thead th {\n",
       "        text-align: right;\n",
       "    }\n",
       "</style>\n",
       "<table border=\"1\" class=\"dataframe\">\n",
       "  <thead>\n",
       "    <tr style=\"text-align: right;\">\n",
       "      <th></th>\n",
       "      <th>pt_root_id</th>\n",
       "      <th>session</th>\n",
       "      <th>scan_idx</th>\n",
       "      <th>unit_id</th>\n",
       "      <th>cortex_layer</th>\n",
       "      <th>brain_area</th>\n",
       "    </tr>\n",
       "  </thead>\n",
       "  <tbody>\n",
       "    <tr>\n",
       "      <th>0</th>\n",
       "      <td>864691136136642173</td>\n",
       "      <td>4</td>\n",
       "      <td>7</td>\n",
       "      <td>665</td>\n",
       "      <td>L1</td>\n",
       "      <td>RL</td>\n",
       "    </tr>\n",
       "    <tr>\n",
       "      <th>1</th>\n",
       "      <td>864691136208993724</td>\n",
       "      <td>4</td>\n",
       "      <td>7</td>\n",
       "      <td>740</td>\n",
       "      <td>L1</td>\n",
       "      <td>V1</td>\n",
       "    </tr>\n",
       "    <tr>\n",
       "      <th>2</th>\n",
       "      <td>864691135683934135</td>\n",
       "      <td>4</td>\n",
       "      <td>7</td>\n",
       "      <td>782</td>\n",
       "      <td>L1</td>\n",
       "      <td>V1</td>\n",
       "    </tr>\n",
       "    <tr>\n",
       "      <th>3</th>\n",
       "      <td>864691135334528233</td>\n",
       "      <td>4</td>\n",
       "      <td>7</td>\n",
       "      <td>855</td>\n",
       "      <td>L1</td>\n",
       "      <td>V1</td>\n",
       "    </tr>\n",
       "    <tr>\n",
       "      <th>4</th>\n",
       "      <td>864691136309730650</td>\n",
       "      <td>4</td>\n",
       "      <td>7</td>\n",
       "      <td>921</td>\n",
       "      <td>L1</td>\n",
       "      <td>RL</td>\n",
       "    </tr>\n",
       "    <tr>\n",
       "      <th>...</th>\n",
       "      <td>...</td>\n",
       "      <td>...</td>\n",
       "      <td>...</td>\n",
       "      <td>...</td>\n",
       "      <td>...</td>\n",
       "      <td>...</td>\n",
       "    </tr>\n",
       "    <tr>\n",
       "      <th>8852</th>\n",
       "      <td>864691135502196829</td>\n",
       "      <td>9</td>\n",
       "      <td>4</td>\n",
       "      <td>7556</td>\n",
       "      <td>L2/3</td>\n",
       "      <td>V1</td>\n",
       "    </tr>\n",
       "    <tr>\n",
       "      <th>8853</th>\n",
       "      <td>864691135569353862</td>\n",
       "      <td>7</td>\n",
       "      <td>3</td>\n",
       "      <td>1827</td>\n",
       "      <td>L2/3</td>\n",
       "      <td>V1</td>\n",
       "    </tr>\n",
       "    <tr>\n",
       "      <th>8854</th>\n",
       "      <td>864691135925955086</td>\n",
       "      <td>5</td>\n",
       "      <td>6</td>\n",
       "      <td>2592</td>\n",
       "      <td>L2/3</td>\n",
       "      <td>V1</td>\n",
       "    </tr>\n",
       "    <tr>\n",
       "      <th>8855</th>\n",
       "      <td>864691135082076407</td>\n",
       "      <td>8</td>\n",
       "      <td>5</td>\n",
       "      <td>1859</td>\n",
       "      <td>L2/3</td>\n",
       "      <td>V1</td>\n",
       "    </tr>\n",
       "    <tr>\n",
       "      <th>8856</th>\n",
       "      <td>864691136039730942</td>\n",
       "      <td>6</td>\n",
       "      <td>4</td>\n",
       "      <td>1606</td>\n",
       "      <td>L2/3</td>\n",
       "      <td>V1</td>\n",
       "    </tr>\n",
       "  </tbody>\n",
       "</table>\n",
       "<p>8857 rows × 6 columns</p>\n",
       "</div>"
      ],
      "text/plain": [
       "              pt_root_id  session  scan_idx  unit_id cortex_layer brain_area\n",
       "0     864691136136642173        4         7      665           L1         RL\n",
       "1     864691136208993724        4         7      740           L1         V1\n",
       "2     864691135683934135        4         7      782           L1         V1\n",
       "3     864691135334528233        4         7      855           L1         V1\n",
       "4     864691136309730650        4         7      921           L1         RL\n",
       "...                  ...      ...       ...      ...          ...        ...\n",
       "8852  864691135502196829        9         4     7556         L2/3         V1\n",
       "8853  864691135569353862        7         3     1827         L2/3         V1\n",
       "8854  864691135925955086        5         6     2592         L2/3         V1\n",
       "8855  864691135082076407        8         5     1859         L2/3         V1\n",
       "8856  864691136039730942        6         4     1606         L2/3         V1\n",
       "\n",
       "[8857 rows x 6 columns]"
      ]
     },
     "execution_count": 80,
     "metadata": {},
     "output_type": "execute_result"
    }
   ],
   "source": [
    "cell_id"
   ]
  },
  {
   "cell_type": "code",
   "execution_count": 4,
   "metadata": {},
   "outputs": [],
   "source": [
    "trace = ActivityExtractor.extract_session_and_scan(6, 4)"
   ]
  },
  {
   "cell_type": "code",
   "execution_count": 5,
   "metadata": {},
   "outputs": [],
   "source": [
    "trace_1, trace_2 = trace[:8826//2, :], trace[8826//2:, :]"
   ]
  },
  {
   "cell_type": "code",
   "execution_count": 6,
   "metadata": {},
   "outputs": [],
   "source": []
  },
  {
   "cell_type": "code",
   "execution_count": 7,
   "metadata": {},
   "outputs": [],
   "source": [
    "cv = CvPCA()"
   ]
  },
  {
   "cell_type": "code",
   "execution_count": 8,
   "metadata": {},
   "outputs": [],
   "source": [
    "cv.fit(trace_1)"
   ]
  },
  {
   "cell_type": "code",
   "execution_count": null,
   "metadata": {},
   "outputs": [],
   "source": [
    "plt.plot(cv.explained_variance_)"
   ]
  },
  {
   "cell_type": "code",
   "execution_count": null,
   "metadata": {},
   "outputs": [
    {
     "name": "stdout",
     "output_type": "stream",
     "text": [
      "(array([5, 5, 5, ..., 5, 5, 5]),)\n",
      "(array([   2,    3,    4, ..., 8860, 8861, 8862]),)\n"
     ]
    }
   ],
   "source": [
    "(nda.Oracle & {'session':5, 'scan_idx':7}).fetch('session', 'unit_id')"
   ]
  },
  {
   "cell_type": "code",
   "execution_count": null,
   "metadata": {},
   "outputs": [
    {
     "data": {
      "text/plain": [
       "(8395, 40000)"
      ]
     },
     "execution_count": 14,
     "metadata": {},
     "output_type": "execute_result"
    }
   ],
   "source": [
    "np.stack(trace)"
   ]
  },
  {
   "cell_type": "code",
   "execution_count": null,
   "metadata": {},
   "outputs": [
    {
     "data": {
      "text/plain": [
       "array([  0,   0,   0, ..., 154, 154, 154])"
      ]
     },
     "execution_count": 30,
     "metadata": {},
     "output_type": "execute_result"
    }
   ],
   "source": [
    "nda.ScanUnit.fetch('ms_delay', order_by='ms_delay ')"
   ]
  },
  {
   "cell_type": "code",
   "execution_count": null,
   "metadata": {},
   "outputs": [
    {
     "data": {
      "text/plain": [
       "array([ 0.839112,  0.807946,  0.794901, ..., -0.112907, -0.1195  ,\n",
       "       -0.135572])"
      ]
     },
     "execution_count": 21,
     "metadata": {},
     "output_type": "execute_result"
    }
   ],
   "source": [
    "nda.Oracle.fetch('pearson', order_by='pearson DESC')"
   ]
  },
  {
   "cell_type": "code",
   "execution_count": null,
   "metadata": {},
   "outputs": [
    {
     "data": {
      "text/plain": [
       "array([0.00000000e+00, 1.58362311e-01, 3.17028583e-01, ...,\n",
       "       6.35102331e+03, 6.35118244e+03, 6.35134122e+03])"
      ]
     },
     "execution_count": 27,
     "metadata": {},
     "output_type": "execute_result"
    }
   ],
   "source": [
    "(nda.ScanTimes & {'session':8, 'scan_idx':7}).fetch1('frame_times')"
   ]
  },
  {
   "cell_type": "code",
   "execution_count": 5,
   "metadata": {},
   "outputs": [],
   "source": [
    "unit_key = {'session':5, 'scan_idx':7, 'unit_id':10}"
   ]
  },
  {
   "cell_type": "code",
   "execution_count": null,
   "metadata": {},
   "outputs": [],
   "source": []
  },
  {
   "cell_type": "code",
   "execution_count": 6,
   "metadata": {},
   "outputs": [],
   "source": [
    "fps = (nda.Scan & unit_key).fetch1('fps') # get frame rate of scan\n"
   ]
  },
  {
   "cell_type": "code",
   "execution_count": 7,
   "metadata": {},
   "outputs": [],
   "source": [
    "\n",
    "oracle_rel = (dj.U('condition_hash').aggr(nda.Trial & unit_key,n='count(*)',m='min(trial_idx)') & 'n=10') # get oracle clips\n",
    "oracle_hashes = oracle_rel.fetch('KEY',order_by='m ASC')"
   ]
  },
  {
   "cell_type": "code",
   "execution_count": 18,
   "metadata": {},
   "outputs": [],
   "source": [
    "trial_1 = (nda.Trial & {'session':5, 'scan_idx':7, 'condition_hash':oracle_hashes[0]['condition_hash']}) * (nda.Activity & {'unit_id':10})"
   ]
  },
  {
   "cell_type": "code",
   "execution_count": 25,
   "metadata": {},
   "outputs": [
    {
     "data": {
      "text/plain": [
       "(10, 40000)"
      ]
     },
     "execution_count": 25,
     "metadata": {},
     "output_type": "execute_result"
    }
   ],
   "source": [
    "np.stack(trial_1.fetch('trace'))"
   ]
  },
  {
   "cell_type": "code",
   "execution_count": 27,
   "metadata": {},
   "outputs": [],
   "source": [
    "act = (nda.Trial & {'session':5, 'scan_idx':7, 'condition_hash':oracle_hashes[0]['condition_hash']}) * (nda.Activity)"
   ]
  },
  {
   "cell_type": "code",
   "execution_count": 33,
   "metadata": {},
   "outputs": [],
   "source": [
    "arr  = (act & 'start_idx=3554').fetch('trace')"
   ]
  },
  {
   "cell_type": "code",
   "execution_count": 36,
   "metadata": {},
   "outputs": [],
   "source": [
    "act_arr_ = np.stack(arr)"
   ]
  },
  {
   "cell_type": "code",
   "execution_count": 1,
   "metadata": {},
   "outputs": [
    {
     "ename": "NameError",
     "evalue": "name 'act_arr_' is not defined",
     "output_type": "error",
     "traceback": [
      "\u001b[0;31m---------------------------------------------------------------------------\u001b[0m",
      "\u001b[0;31mNameError\u001b[0m                                 Traceback (most recent call last)",
      "\u001b[1;32m/workspaces/microns_phase3_nda/my_tests/tests.ipynb Cell 31\u001b[0m line \u001b[0;36m1\n\u001b[0;32m----> <a href='vscode-notebook-cell://dev-container%2B7b22686f737450617468223a22633a5c5c55736572735c5c6c697363615c5c4465736b746f705c5c546573695c5c636f64655c5c6d6963726f6e735f7068617365335f6e6461222c226c6f63616c446f636b6572223a66616c73652c22636f6e66696746696c65223a7b22246d6964223a312c22667350617468223a22633a5c5c55736572735c5c6c697363615c5c4465736b746f705c5c546573695c5c636f64655c5c6d6963726f6e735f7068617365335f6e64615c5c2e646576636f6e7461696e65725c5c6c6f63616c5c5c646576636f6e7461696e65722e6a736f6e222c225f736570223a312c2270617468223a222f633a2f55736572732f6c697363612f4465736b746f702f546573692f636f64652f6d6963726f6e735f7068617365335f6e64612f2e646576636f6e7461696e65722f6c6f63616c2f646576636f6e7461696e65722e6a736f6e222c22736368656d65223a2266696c65227d7d/workspaces/microns_phase3_nda/my_tests/tests.ipynb#Y155sdnNjb2RlLXJlbW90ZQ%3D%3D?line=0'>1</a>\u001b[0m act_arr_\u001b[39m.\u001b[39mstd(axis\u001b[39m=\u001b[39m\u001b[39m0\u001b[39m)\n",
      "\u001b[0;31mNameError\u001b[0m: name 'act_arr_' is not defined"
     ]
    }
   ],
   "source": [
    "act_arr_.std(axis=0)"
   ]
  },
  {
   "cell_type": "code",
   "execution_count": 67,
   "metadata": {},
   "outputs": [
    {
     "data": {
      "text/html": [
       "\n",
       "        \n",
       "        <style type=\"text/css\">\n",
       "            .Relation{\n",
       "                border-collapse:collapse;\n",
       "            }\n",
       "            .Relation th{\n",
       "                background: #A0A0A0; color: #ffffff; padding:4px; border:#f0e0e0 1px solid;\n",
       "                font-weight: normal; font-family: monospace; font-size: 100%;\n",
       "            }\n",
       "            .Relation td{\n",
       "                padding:4px; border:#f0e0e0 1px solid; font-size:100%;\n",
       "            }\n",
       "            .Relation tr:nth-child(odd){\n",
       "                background: #ffffff;\n",
       "            }\n",
       "            .Relation tr:nth-child(even){\n",
       "                background: #f3f1ff;\n",
       "            }\n",
       "            /* Tooltip container */\n",
       "            .djtooltip {\n",
       "            }\n",
       "            /* Tooltip text */\n",
       "            .djtooltip .djtooltiptext {\n",
       "                visibility: hidden;\n",
       "                width: 120px;\n",
       "                background-color: black;\n",
       "                color: #fff;\n",
       "                text-align: center;\n",
       "                padding: 5px 0;\n",
       "                border-radius: 6px;\n",
       "                /* Position the tooltip text - see examples below! */\n",
       "                position: absolute;\n",
       "                z-index: 1;\n",
       "            }\n",
       "            #primary {\n",
       "                font-weight: bold;\n",
       "                color: black;\n",
       "            }\n",
       "\n",
       "            #nonprimary {\n",
       "                font-weight: normal;\n",
       "                color: white;\n",
       "            }\n",
       "\n",
       "            /* Show the tooltip text when you mouse over the tooltip container */\n",
       "            .djtooltip:hover .djtooltiptext {\n",
       "                visibility: visible;\n",
       "            }\n",
       "        </style>\n",
       "        \n",
       "        <b>Information for each Trial</b>\n",
       "            <div style=\"max-height:1000px;max-width:1500px;overflow:auto;\">\n",
       "            <table border=\"1\" class=\"Relation\">\n",
       "                <thead> <tr style=\"text-align: right;\"> <th> <div class=\"djtooltip\">\n",
       "                                <p id=\"primary\">session</p>\n",
       "                                <span class=\"djtooltiptext\">Session ID</span>\n",
       "                            </div></th><th><div class=\"djtooltip\">\n",
       "                                <p id=\"primary\">scan_idx</p>\n",
       "                                <span class=\"djtooltiptext\">Scan ID</span>\n",
       "                            </div></th><th><div class=\"djtooltip\">\n",
       "                                <p id=\"primary\">trial_idx</p>\n",
       "                                <span class=\"djtooltiptext\">index of trial within stimulus</span>\n",
       "                            </div></th><th><div class=\"djtooltip\">\n",
       "                                <p id=\"nonprimary\">type</p>\n",
       "                                <span class=\"djtooltiptext\">type of stimulus trial</span>\n",
       "                            </div></th><th><div class=\"djtooltip\">\n",
       "                                <p id=\"nonprimary\">start_idx</p>\n",
       "                                <span class=\"djtooltiptext\">index of field 1 scan frame at start of trial</span>\n",
       "                            </div></th><th><div class=\"djtooltip\">\n",
       "                                <p id=\"nonprimary\">end_idx</p>\n",
       "                                <span class=\"djtooltiptext\">index of field 1 scan frame at end of trial</span>\n",
       "                            </div></th><th><div class=\"djtooltip\">\n",
       "                                <p id=\"nonprimary\">start_frame_time</p>\n",
       "                                <span class=\"djtooltiptext\">start time of stimulus frame relative to scan start (seconds)</span>\n",
       "                            </div></th><th><div class=\"djtooltip\">\n",
       "                                <p id=\"nonprimary\">end_frame_time</p>\n",
       "                                <span class=\"djtooltiptext\">end time of stimulus frame relative to scan start (seconds)</span>\n",
       "                            </div></th><th><div class=\"djtooltip\">\n",
       "                                <p id=\"nonprimary\">stim_times</p>\n",
       "                                <span class=\"djtooltiptext\">full vector of stimulus frame times relative to scan start (seconds)</span>\n",
       "                            </div></th><th><div class=\"djtooltip\">\n",
       "                                <p id=\"nonprimary\">condition_hash</p>\n",
       "                                <span class=\"djtooltiptext\">120-bit hash (The first 20 chars of MD5 in base64)</span>\n",
       "                            </div> </th> </tr> </thead>\n",
       "                <tbody> <tr> <td>5</td>\n",
       "<td>7</td>\n",
       "<td>0</td>\n",
       "<td>stimulus.Clip</td>\n",
       "<td>1273</td>\n",
       "<td>1335</td>\n",
       "<td>202.05525159835815</td>\n",
       "<td>212.0217468738556</td>\n",
       "<td>=BLOB=</td>\n",
       "<td>5mN+CgYzRIj4/bP+VH8Y</td></tr><tr><td>5</td>\n",
       "<td>7</td>\n",
       "<td>1</td>\n",
       "<td>stimulus.Clip</td>\n",
       "<td>1336</td>\n",
       "<td>1399</td>\n",
       "<td>212.1217496395111</td>\n",
       "<td>222.08825016021729</td>\n",
       "<td>=BLOB=</td>\n",
       "<td>ImuSRQUQ9N4iUC010zUk</td></tr><tr><td>5</td>\n",
       "<td>7</td>\n",
       "<td>2</td>\n",
       "<td>stimulus.Clip</td>\n",
       "<td>1400</td>\n",
       "<td>1462</td>\n",
       "<td>222.18824863433838</td>\n",
       "<td>232.15474915504456</td>\n",
       "<td>=BLOB=</td>\n",
       "<td>A3SF4sP0ffZXbfnyUGw0</td></tr><tr><td>5</td>\n",
       "<td>7</td>\n",
       "<td>3</td>\n",
       "<td>stimulus.Clip</td>\n",
       "<td>1463</td>\n",
       "<td>1525</td>\n",
       "<td>232.25474762916565</td>\n",
       "<td>242.22124218940735</td>\n",
       "<td>=BLOB=</td>\n",
       "<td>FYcu7JS6q8kG7S//hXzq</td></tr><tr><td>5</td>\n",
       "<td>7</td>\n",
       "<td>4</td>\n",
       "<td>stimulus.Clip</td>\n",
       "<td>1526</td>\n",
       "<td>1589</td>\n",
       "<td>242.32123589515686</td>\n",
       "<td>252.28775191307068</td>\n",
       "<td>=BLOB=</td>\n",
       "<td>qiBBaBtFVdb9F/zD+y1O</td></tr><tr><td>5</td>\n",
       "<td>7</td>\n",
       "<td>5</td>\n",
       "<td>stimulus.Clip</td>\n",
       "<td>1590</td>\n",
       "<td>1652</td>\n",
       "<td>252.3877477645874</td>\n",
       "<td>262.35425090789795</td>\n",
       "<td>=BLOB=</td>\n",
       "<td>mR9hqOW1IBAzD5SOAu17</td></tr><tr><td>5</td>\n",
       "<td>7</td>\n",
       "<td>6</td>\n",
       "<td>stimulus.Clip</td>\n",
       "<td>1653</td>\n",
       "<td>1716</td>\n",
       "<td>262.4542467594147</td>\n",
       "<td>272.4207499027252</td>\n",
       "<td>=BLOB=</td>\n",
       "<td>QmynNYnz4Q0hMBpTZ/xv</td></tr><tr><td>5</td>\n",
       "<td>7</td>\n",
       "<td>7</td>\n",
       "<td>stimulus.Clip</td>\n",
       "<td>1717</td>\n",
       "<td>1779</td>\n",
       "<td>272.5207486152649</td>\n",
       "<td>282.4872510433197</td>\n",
       "<td>=BLOB=</td>\n",
       "<td>gpu0WyfdPMgXV/xhy6ZP</td></tr><tr><td>5</td>\n",
       "<td>7</td>\n",
       "<td>8</td>\n",
       "<td>stimulus.Clip</td>\n",
       "<td>1780</td>\n",
       "<td>1842</td>\n",
       "<td>282.5872497558594</td>\n",
       "<td>292.55375123023987</td>\n",
       "<td>=BLOB=</td>\n",
       "<td>0ir9/br3yxbe2BBf65zF</td></tr><tr><td>5</td>\n",
       "<td>7</td>\n",
       "<td>9</td>\n",
       "<td>stimulus.Clip</td>\n",
       "<td>1843</td>\n",
       "<td>1906</td>\n",
       "<td>292.65374875068665</td>\n",
       "<td>302.62024092674255</td>\n",
       "<td>=BLOB=</td>\n",
       "<td>NM2SnnQwIoj8iKOMP6xA</td></tr><tr><td>5</td>\n",
       "<td>7</td>\n",
       "<td>10</td>\n",
       "<td>stimulus.Clip</td>\n",
       "<td>1907</td>\n",
       "<td>1969</td>\n",
       "<td>302.72024869918823</td>\n",
       "<td>312.6867480278015</td>\n",
       "<td>=BLOB=</td>\n",
       "<td>F5KOXJGuqZljKK9USGu/</td></tr><tr><td>5</td>\n",
       "<td>7</td>\n",
       "<td>11</td>\n",
       "<td>stimulus.Clip</td>\n",
       "<td>1970</td>\n",
       "<td>2033</td>\n",
       "<td>312.7867467403412</td>\n",
       "<td>322.7532567977905</td>\n",
       "<td>=BLOB=</td>\n",
       "<td>uWDM4AAJ+PIdXzpPxOha</td> </tr> </tbody>\n",
       "            </table>\n",
       "            <p>...</p>\n",
       "            <p>Total: 464</p></div>\n",
       "            "
      ],
      "text/plain": [
       "*session    *scan_idx    *trial_idx    type           start_idx     end_idx     start_frame_ti end_frame_time stim_times condition_hash\n",
       "+---------+ +----------+ +-----------+ +------------+ +-----------+ +---------+ +------------+ +------------+ +--------+ +------------+\n",
       "5           7            0             stimulus.Clip  1273          1335        202.0552515983 212.0217468738 =BLOB=     5mN+CgYzRIj4/b\n",
       "5           7            1             stimulus.Clip  1336          1399        212.1217496395 222.0882501602 =BLOB=     ImuSRQUQ9N4iUC\n",
       "5           7            2             stimulus.Clip  1400          1462        222.1882486343 232.1547491550 =BLOB=     A3SF4sP0ffZXbf\n",
       "5           7            3             stimulus.Clip  1463          1525        232.2547476291 242.2212421894 =BLOB=     FYcu7JS6q8kG7S\n",
       "5           7            4             stimulus.Clip  1526          1589        242.3212358951 252.2877519130 =BLOB=     qiBBaBtFVdb9F/\n",
       "5           7            5             stimulus.Clip  1590          1652        252.3877477645 262.3542509078 =BLOB=     mR9hqOW1IBAzD5\n",
       "5           7            6             stimulus.Clip  1653          1716        262.4542467594 272.4207499027 =BLOB=     QmynNYnz4Q0hMB\n",
       "5           7            7             stimulus.Clip  1717          1779        272.5207486152 282.4872510433 =BLOB=     gpu0WyfdPMgXV/\n",
       "5           7            8             stimulus.Clip  1780          1842        282.5872497558 292.5537512302 =BLOB=     0ir9/br3yxbe2B\n",
       "5           7            9             stimulus.Clip  1843          1906        292.6537487506 302.6202409267 =BLOB=     NM2SnnQwIoj8iK\n",
       "5           7            10            stimulus.Clip  1907          1969        302.7202486991 312.6867480278 =BLOB=     F5KOXJGuqZljKK\n",
       "5           7            11            stimulus.Clip  1970          2033        312.7867467403 322.7532567977 =BLOB=     uWDM4AAJ+PIdXz\n",
       "   ...\n",
       " (Total: 464)"
      ]
     },
     "execution_count": 67,
     "metadata": {},
     "output_type": "execute_result"
    }
   ],
   "source": [
    "(nda.Trial & unit_key)#.aggr('condition_hash', n='count(*)')"
   ]
  },
  {
   "cell_type": "code",
   "execution_count": 26,
   "metadata": {},
   "outputs": [
    {
     "data": {
      "text/html": [
       "\n",
       "        \n",
       "        <style type=\"text/css\">\n",
       "            .Relation{\n",
       "                border-collapse:collapse;\n",
       "            }\n",
       "            .Relation th{\n",
       "                background: #A0A0A0; color: #ffffff; padding:4px; border:#f0e0e0 1px solid;\n",
       "                font-weight: normal; font-family: monospace; font-size: 100%;\n",
       "            }\n",
       "            .Relation td{\n",
       "                padding:4px; border:#f0e0e0 1px solid; font-size:100%;\n",
       "            }\n",
       "            .Relation tr:nth-child(odd){\n",
       "                background: #ffffff;\n",
       "            }\n",
       "            .Relation tr:nth-child(even){\n",
       "                background: #f3f1ff;\n",
       "            }\n",
       "            /* Tooltip container */\n",
       "            .djtooltip {\n",
       "            }\n",
       "            /* Tooltip text */\n",
       "            .djtooltip .djtooltiptext {\n",
       "                visibility: hidden;\n",
       "                width: 120px;\n",
       "                background-color: black;\n",
       "                color: #fff;\n",
       "                text-align: center;\n",
       "                padding: 5px 0;\n",
       "                border-radius: 6px;\n",
       "                /* Position the tooltip text - see examples below! */\n",
       "                position: absolute;\n",
       "                z-index: 1;\n",
       "            }\n",
       "            #primary {\n",
       "                font-weight: bold;\n",
       "                color: black;\n",
       "            }\n",
       "\n",
       "            #nonprimary {\n",
       "                font-weight: normal;\n",
       "                color: white;\n",
       "            }\n",
       "\n",
       "            /* Show the tooltip text when you mouse over the tooltip container */\n",
       "            .djtooltip:hover .djtooltiptext {\n",
       "                visibility: visible;\n",
       "            }\n",
       "        </style>\n",
       "        \n",
       "        \n",
       "            <div style=\"max-height:1000px;max-width:1500px;overflow:auto;\">\n",
       "            <table border=\"1\" class=\"Relation\">\n",
       "                <thead> <tr style=\"text-align: right;\"> <th> <div class=\"djtooltip\">\n",
       "                                <p id=\"primary\">condition_hash</p>\n",
       "                                <span class=\"djtooltiptext\">120-bit hash (The first 20 chars of MD5 in base64)</span>\n",
       "                            </div></th><th><div class=\"djtooltip\">\n",
       "                                <p id=\"nonprimary\">n</p>\n",
       "                                <span class=\"djtooltiptext\">calculated attribute</span>\n",
       "                            </div></th><th><div class=\"djtooltip\">\n",
       "                                <p id=\"nonprimary\">m</p>\n",
       "                                <span class=\"djtooltiptext\">calculated attribute</span>\n",
       "                            </div> </th> </tr> </thead>\n",
       "                <tbody> <tr> <td>+4gByvU9LfvSD0JHP6Ae</td>\n",
       "<td>2</td>\n",
       "<td>120</td></tr><tr><td>+rgSVBVRE8Ij1WNhq8ZW</td>\n",
       "<td>2</td>\n",
       "<td>50</td></tr><tr><td>/d03nh8d+f5CQoP4oXHK</td>\n",
       "<td>2</td>\n",
       "<td>62</td></tr><tr><td>0eP/PPhAGmbJ2peZOa/E</td>\n",
       "<td>2</td>\n",
       "<td>181</td></tr><tr><td>0gijdp4ppt4Dz70n4yW3</td>\n",
       "<td>2</td>\n",
       "<td>48</td></tr><tr><td>0ir9/br3yxbe2BBf65zF</td>\n",
       "<td>2</td>\n",
       "<td>8</td></tr><tr><td>0JcYLY6eaQxNgD0AqyHf</td>\n",
       "<td>2</td>\n",
       "<td>27</td></tr><tr><td>18PTv0aCUhaUeL2r9kDd</td>\n",
       "<td>2</td>\n",
       "<td>41</td></tr><tr><td>3wXTReOQa7mnr6Oz8aUf</td>\n",
       "<td>2</td>\n",
       "<td>180</td></tr><tr><td>4tIOoaR5VNXdEFB3JLsd</td>\n",
       "<td>2</td>\n",
       "<td>200</td></tr><tr><td>4ZE6JPeH4hCIesp0aRIB</td>\n",
       "<td>2</td>\n",
       "<td>141</td></tr><tr><td>5Q4+LRPdnmpiazfLNOdJ</td>\n",
       "<td>2</td>\n",
       "<td>185</td> </tr> </tbody>\n",
       "            </table>\n",
       "            <p>...</p>\n",
       "            <p>Total: 136</p></div>\n",
       "            "
      ],
      "text/plain": [
       "*condition_has n     m      \n",
       "+------------+ +---+ +-----+\n",
       "+4gByvU9LfvSD0 2     120    \n",
       "+rgSVBVRE8Ij1W 2     50     \n",
       "/d03nh8d+f5CQo 2     62     \n",
       "0eP/PPhAGmbJ2p 2     181    \n",
       "0gijdp4ppt4Dz7 2     48     \n",
       "0ir9/br3yxbe2B 2     8      \n",
       "0JcYLY6eaQxNgD 2     27     \n",
       "18PTv0aCUhaUeL 2     41     \n",
       "3wXTReOQa7mnr6 2     180    \n",
       "4tIOoaR5VNXdEF 2     200    \n",
       "4ZE6JPeH4hCIes 2     141    \n",
       "5Q4+LRPdnmpiaz 2     185    \n",
       "   ...\n",
       " (Total: 136)"
      ]
     },
     "execution_count": 26,
     "metadata": {},
     "output_type": "execute_result"
    }
   ],
   "source": [
    "dj.U('condition_hash').aggr(nda.Trial & unit_key,n='count(*)',m='min(trial_idx)') & 'n>=2'"
   ]
  },
  {
   "cell_type": "code",
   "execution_count": 63,
   "metadata": {},
   "outputs": [
    {
     "data": {
      "text/html": [
       "\n",
       "        \n",
       "        <style type=\"text/css\">\n",
       "            .Relation{\n",
       "                border-collapse:collapse;\n",
       "            }\n",
       "            .Relation th{\n",
       "                background: #A0A0A0; color: #ffffff; padding:4px; border:#f0e0e0 1px solid;\n",
       "                font-weight: normal; font-family: monospace; font-size: 100%;\n",
       "            }\n",
       "            .Relation td{\n",
       "                padding:4px; border:#f0e0e0 1px solid; font-size:100%;\n",
       "            }\n",
       "            .Relation tr:nth-child(odd){\n",
       "                background: #ffffff;\n",
       "            }\n",
       "            .Relation tr:nth-child(even){\n",
       "                background: #f3f1ff;\n",
       "            }\n",
       "            /* Tooltip container */\n",
       "            .djtooltip {\n",
       "            }\n",
       "            /* Tooltip text */\n",
       "            .djtooltip .djtooltiptext {\n",
       "                visibility: hidden;\n",
       "                width: 120px;\n",
       "                background-color: black;\n",
       "                color: #fff;\n",
       "                text-align: center;\n",
       "                padding: 5px 0;\n",
       "                border-radius: 6px;\n",
       "                /* Position the tooltip text - see examples below! */\n",
       "                position: absolute;\n",
       "                z-index: 1;\n",
       "            }\n",
       "            #primary {\n",
       "                font-weight: bold;\n",
       "                color: black;\n",
       "            }\n",
       "\n",
       "            #nonprimary {\n",
       "                font-weight: normal;\n",
       "                color: white;\n",
       "            }\n",
       "\n",
       "            /* Show the tooltip text when you mouse over the tooltip container */\n",
       "            .djtooltip:hover .djtooltiptext {\n",
       "                visibility: visible;\n",
       "            }\n",
       "        </style>\n",
       "        \n",
       "        \n",
       "            <div style=\"max-height:1000px;max-width:1500px;overflow:auto;\">\n",
       "            <table border=\"1\" class=\"Relation\">\n",
       "                <thead> <tr style=\"text-align: right;\"> <th> <div class=\"djtooltip\">\n",
       "                                <p id=\"primary\">condition_hash</p>\n",
       "                                <span class=\"djtooltiptext\">120-bit hash (The first 20 chars of MD5 in base64)</span>\n",
       "                            </div></th><th><div class=\"djtooltip\">\n",
       "                                <p id=\"nonprimary\">n</p>\n",
       "                                <span class=\"djtooltiptext\">calculated attribute</span>\n",
       "                            </div></th><th><div class=\"djtooltip\">\n",
       "                                <p id=\"nonprimary\">m</p>\n",
       "                                <span class=\"djtooltiptext\">calculated attribute</span>\n",
       "                            </div> </th> </tr> </thead>\n",
       "                <tbody> <tr> <td>5zQTb77qI+ig8rigx1XU</td>\n",
       "<td>10</td>\n",
       "<td>33</td></tr><tr><td>7UETOWO5Z8aWuHDBJ2GG</td>\n",
       "<td>10</td>\n",
       "<td>36</td></tr><tr><td>ecUQJtcERZJGdqza1k7h</td>\n",
       "<td>10</td>\n",
       "<td>35</td></tr><tr><td>GjCMo2GkJp6y5vricadg</td>\n",
       "<td>10</td>\n",
       "<td>34</td></tr><tr><td>KXdTNAGMo1gCWz2Ge8zr</td>\n",
       "<td>10</td>\n",
       "<td>32</td></tr><tr><td>Oup5uAZxF2G7zEJkT+ui</td>\n",
       "<td>10</td>\n",
       "<td>37</td> </tr> </tbody>\n",
       "            </table>\n",
       "            \n",
       "            <p>Total: 6</p></div>\n",
       "            "
      ],
      "text/plain": [
       "*condition_has n      m     \n",
       "+------------+ +----+ +----+\n",
       "5zQTb77qI+ig8r 10     33    \n",
       "7UETOWO5Z8aWuH 10     36    \n",
       "ecUQJtcERZJGdq 10     35    \n",
       "GjCMo2GkJp6y5v 10     34    \n",
       "KXdTNAGMo1gCWz 10     32    \n",
       "Oup5uAZxF2G7zE 10     37    \n",
       " (Total: 6)"
      ]
     },
     "execution_count": 63,
     "metadata": {},
     "output_type": "execute_result"
    }
   ],
   "source": [
    "dj.U('condition_hash').aggr(nda.Trial & unit_key,n='count(*)',m='min(trial_idx)') & 'n=10'"
   ]
  },
  {
   "cell_type": "code",
   "execution_count": 38,
   "metadata": {},
   "outputs": [
    {
     "data": {
      "text/plain": [
       "array([8355, 8038, 8164, 8228, 8291, 8101])"
      ]
     },
     "execution_count": 38,
     "metadata": {},
     "output_type": "execute_result"
    }
   ],
   "source": [
    "trial_list = (nda.Trial & oracle_hashes[0] & unit_key).fetch('trial_idx')\n",
    "first_clip = trial_list[2]\n",
    "trial_block_rel = (nda.Trial & unit_key & f'trial_idx >= {first_clip} and trial_idx < {first_clip+6}')\n",
    "trial_block_rel.fetch('start_idx', order_by='condition_hash DESC')"
   ]
  },
  {
   "cell_type": "code",
   "execution_count": 39,
   "metadata": {},
   "outputs": [],
   "source": [
    "frame_times_set = []\n",
    "# iterate over oracle repeats (10 repeats)\n",
    "for first_clip in (nda.Trial & oracle_hashes[0] & unit_key).fetch('trial_idx'): \n",
    "    trial_block_rel = (nda.Trial & unit_key & f'trial_idx >= {first_clip} and trial_idx < {first_clip+6}') # uses the trial_idx of the first clip to grab subsequent 5 clips (trial_block) \n",
    "    start_times, end_times = trial_block_rel.fetch('start_frame_time', 'end_frame_time', order_by='condition_hash DESC') # grabs start time and end time of each clip in trial_block and orders by condition_hash to maintain order across scans\n",
    "    frame_times = [np.linspace(s, e , np.round(fps * (e - s)).astype(int)) for s, e in zip(start_times, end_times)] # generate time vector between start and end times according to frame rate of scan\n",
    "    frame_times_set.append(frame_times)\n",
    "\n"
   ]
  },
  {
   "cell_type": "code",
   "execution_count": 40,
   "metadata": {},
   "outputs": [],
   "source": [
    "frame_times = [np.linspace(s, e , np.round(fps *3* (e - s)).astype(int)) for s, e in zip(start_times, end_times)] # generate time vector between start and end times according to frame rate of scan\n"
   ]
  },
  {
   "cell_type": "code",
   "execution_count": 41,
   "metadata": {},
   "outputs": [],
   "source": [
    "trace, fts, delay = ((nda.Activity & unit_key) * nda.ScanTimes * nda.ScanUnit).fetch1('trace', 'frame_times', 'ms_delay') # fetch trace delay and frame times for interpolation\n"
   ]
  },
  {
   "cell_type": "code",
   "execution_count": 42,
   "metadata": {},
   "outputs": [],
   "source": [
    "from scipy.interpolate import interp1d"
   ]
  },
  {
   "cell_type": "code",
   "execution_count": 43,
   "metadata": {},
   "outputs": [],
   "source": [
    "f2a = interp1d(fts + delay/1000, trace)"
   ]
  },
  {
   "cell_type": "code",
   "execution_count": 44,
   "metadata": {},
   "outputs": [],
   "source": [
    "oracle_traces = np.array([f2a(ft) for ft in frame_times_set])"
   ]
  },
  {
   "cell_type": "code",
   "execution_count": 45,
   "metadata": {},
   "outputs": [],
   "source": [
    "oracle_traces -= np.min(oracle_traces,axis=(1,2),keepdims=True) # normalize the oracle traces\n",
    "oracle_traces /= np.max(oracle_traces,axis=(1,2),keepdims=True)"
   ]
  },
  {
   "cell_type": "code",
   "execution_count": 46,
   "metadata": {},
   "outputs": [
    {
     "data": {
      "text/plain": [
       "[<matplotlib.lines.Line2D at 0x7f6e66c31af0>]"
      ]
     },
     "execution_count": 46,
     "metadata": {},
     "output_type": "execute_result"
    },
    {
     "data": {
      "image/png": "[encoded data removed]",
      "text/plain": [
       "<Figure size 640x480 with 1 Axes>"
      ]
     },
     "metadata": {},
     "output_type": "display_data"
    }
   ],
   "source": [
    "plt.plot(np.arange(8030,8110), trace[8030:8110], alpha=0.4);\n",
    "plt.plot(np.arange(8038,8100),trace[8038:8100], alpha=1);\n",
    "plt.plot(np.arange(8038,8101),oracle_traces[2, 1, :], alpha=1)"
   ]
  },
  {
   "cell_type": "code",
   "execution_count": 28,
   "metadata": {},
   "outputs": [],
   "source": [
    "cv = CvPCA()"
   ]
  },
  {
   "cell_type": "code",
   "execution_count": 31,
   "metadata": {},
   "outputs": [
    {
     "data": {
      "text/html": [
       "<style>#sk-container-id-5 {color: black;}#sk-container-id-5 pre{padding: 0;}#sk-container-id-5 div.sk-toggleable {background-color: white;}#sk-container-id-5 label.sk-toggleable__label {cursor: pointer;display: block;width: 100%;margin-bottom: 0;padding: 0.3em;box-sizing: border-box;text-align: center;}#sk-container-id-5 label.sk-toggleable__label-arrow:before {content: \"▸\";float: left;margin-right: 0.25em;color: #696969;}#sk-container-id-5 label.sk-toggleable__label-arrow:hover:before {color: black;}#sk-container-id-5 div.sk-estimator:hover label.sk-toggleable__label-arrow:before {color: black;}#sk-container-id-5 div.sk-toggleable__content {max-height: 0;max-width: 0;overflow: hidden;text-align: left;background-color: #f0f8ff;}#sk-container-id-5 div.sk-toggleable__content pre {margin: 0.2em;color: black;border-radius: 0.25em;background-color: #f0f8ff;}#sk-container-id-5 input.sk-toggleable__control:checked~div.sk-toggleable__content {max-height: 200px;max-width: 100%;overflow: auto;}#sk-container-id-5 input.sk-toggleable__control:checked~label.sk-toggleable__label-arrow:before {content: \"▾\";}#sk-container-id-5 div.sk-estimator input.sk-toggleable__control:checked~label.sk-toggleable__label {background-color: #d4ebff;}#sk-container-id-5 div.sk-label input.sk-toggleable__control:checked~label.sk-toggleable__label {background-color: #d4ebff;}#sk-container-id-5 input.sk-hidden--visually {border: 0;clip: rect(1px 1px 1px 1px);clip: rect(1px, 1px, 1px, 1px);height: 1px;margin: -1px;overflow: hidden;padding: 0;position: absolute;width: 1px;}#sk-container-id-5 div.sk-estimator {font-family: monospace;background-color: #f0f8ff;border: 1px dotted black;border-radius: 0.25em;box-sizing: border-box;margin-bottom: 0.5em;}#sk-container-id-5 div.sk-estimator:hover {background-color: #d4ebff;}#sk-container-id-5 div.sk-parallel-item::after {content: \"\";width: 100%;border-bottom: 1px solid gray;flex-grow: 1;}#sk-container-id-5 div.sk-label:hover label.sk-toggleable__label {background-color: #d4ebff;}#sk-container-id-5 div.sk-serial::before {content: \"\";position: absolute;border-left: 1px solid gray;box-sizing: border-box;top: 0;bottom: 0;left: 50%;z-index: 0;}#sk-container-id-5 div.sk-serial {display: flex;flex-direction: column;align-items: center;background-color: white;padding-right: 0.2em;padding-left: 0.2em;position: relative;}#sk-container-id-5 div.sk-item {position: relative;z-index: 1;}#sk-container-id-5 div.sk-parallel {display: flex;align-items: stretch;justify-content: center;background-color: white;position: relative;}#sk-container-id-5 div.sk-item::before, #sk-container-id-5 div.sk-parallel-item::before {content: \"\";position: absolute;border-left: 1px solid gray;box-sizing: border-box;top: 0;bottom: 0;left: 50%;z-index: -1;}#sk-container-id-5 div.sk-parallel-item {display: flex;flex-direction: column;z-index: 1;position: relative;background-color: white;}#sk-container-id-5 div.sk-parallel-item:first-child::after {align-self: flex-end;width: 50%;}#sk-container-id-5 div.sk-parallel-item:last-child::after {align-self: flex-start;width: 50%;}#sk-container-id-5 div.sk-parallel-item:only-child::after {width: 0;}#sk-container-id-5 div.sk-dashed-wrapped {border: 1px dashed gray;margin: 0 0.4em 0.5em 0.4em;box-sizing: border-box;padding-bottom: 0.4em;background-color: white;}#sk-container-id-5 div.sk-label label {font-family: monospace;font-weight: bold;display: inline-block;line-height: 1.2em;}#sk-container-id-5 div.sk-label-container {text-align: center;}#sk-container-id-5 div.sk-container {/* jupyter's `normalize.less` sets `[hidden] { display: none; }` but bootstrap.min.css set `[hidden] { display: none !important; }` so we also need the `!important` here to be able to override the default hidden behavior on the sphinx rendered scikit-learn.org. See: https://github.com/scikit-learn/scikit-learn/issues/21755 */display: inline-block !important;position: relative;}#sk-container-id-5 div.sk-text-repr-fallback {display: none;}</style><div id=\"sk-container-id-5\" class=\"sk-top-container\"><div class=\"sk-text-repr-fallback\"><pre>CvPCA()</pre><b>In a Jupyter environment, please rerun this cell to show the HTML representation or trust the notebook. <br />On GitHub, the HTML representation is unable to render, please try loading this page with nbviewer.org.</b></div><div class=\"sk-container\" hidden><div class=\"sk-item\"><div class=\"sk-estimator sk-toggleable\"><input class=\"sk-toggleable__control sk-hidden--visually\" id=\"sk-estimator-id-5\" type=\"checkbox\" checked><label for=\"sk-estimator-id-5\" class=\"sk-toggleable__label sk-toggleable__label-arrow\">CvPCA</label><div class=\"sk-toggleable__content\"><pre>CvPCA()</pre></div></div></div></div></div>"
      ],
      "text/plain": [
       "CvPCA()"
      ]
     },
     "execution_count": 31,
     "metadata": {},
     "output_type": "execute_result"
    }
   ],
   "source": [
    "cv.fit(oracle_traces[:,0,:].T)"
   ]
  },
  {
   "cell_type": "code",
   "execution_count": 32,
   "metadata": {},
   "outputs": [
    {
     "data": {
      "image/png": "[encoded data removed]",
      "text/plain": [
       "<Figure size 640x480 with 1 Axes>"
      ]
     },
     "metadata": {},
     "output_type": "display_data"
    }
   ],
   "source": [
    "plt.plot(cv.explained_variance_ratio_);"
   ]
  },
  {
   "cell_type": "code",
   "execution_count": 20,
   "metadata": {},
   "outputs": [],
   "source": [
    "sing_values = cv.fit_cv(oracle_traces[:,0,:].T, oracle_traces[:,1,:].T)"
   ]
  },
  {
   "cell_type": "code",
   "execution_count": 23,
   "metadata": {},
   "outputs": [
    {
     "data": {
      "text/plain": [
       "array([ 9.22419603e-04,  8.36473767e-04,  6.74412537e-08,  2.44447634e-03,\n",
       "        4.71080706e-04,  4.62549823e-05,  5.68748625e-04, -1.16774165e-05,\n",
       "        1.20143822e-10, -3.75882872e-03])"
      ]
     },
     "execution_count": 23,
     "metadata": {},
     "output_type": "execute_result"
    }
   ],
   "source": [
    "np.diag(sing_values)"
   ]
  },
  {
   "cell_type": "code",
   "execution_count": 86,
   "metadata": {},
   "outputs": [
    {
     "data": {
      "text/plain": [
       "[{'session': 4, 'scan_idx': 7},\n",
       " {'session': 4, 'scan_idx': 9},\n",
       " {'session': 4, 'scan_idx': 10},\n",
       " {'session': 5, 'scan_idx': 3},\n",
       " {'session': 5, 'scan_idx': 6},\n",
       " {'session': 5, 'scan_idx': 7},\n",
       " {'session': 6, 'scan_idx': 2},\n",
       " {'session': 6, 'scan_idx': 4},\n",
       " {'session': 6, 'scan_idx': 6},\n",
       " {'session': 6, 'scan_idx': 7},\n",
       " {'session': 7, 'scan_idx': 3},\n",
       " {'session': 7, 'scan_idx': 4},\n",
       " {'session': 7, 'scan_idx': 5},\n",
       " {'session': 8, 'scan_idx': 5},\n",
       " {'session': 8, 'scan_idx': 7},\n",
       " {'session': 8, 'scan_idx': 9},\n",
       " {'session': 9, 'scan_idx': 3},\n",
       " {'session': 9, 'scan_idx': 4},\n",
       " {'session': 9, 'scan_idx': 6}]"
      ]
     },
     "execution_count": 86,
     "metadata": {},
     "output_type": "execute_result"
    }
   ],
   "source": [
    "nda.Scan.fetch('KEY')"
   ]
  },
  {
   "cell_type": "code",
   "execution_count": null,
   "metadata": {},
   "outputs": [
    {
     "data": {
      "text/plain": [
       "(10, 63)"
      ]
     },
     "execution_count": 72,
     "metadata": {},
     "output_type": "execute_result"
    }
   ],
   "source": [
    "oracle_traces[:,0,:].shape"
   ]
  },
  {
   "cell_type": "code",
   "execution_count": null,
   "metadata": {},
   "outputs": [
    {
     "ename": "ValueError",
     "evalue": "either both or neither of x and y should be given",
     "output_type": "error",
     "traceback": [
      "\u001b[0;31m---------------------------------------------------------------------------\u001b[0m",
      "\u001b[0;31mValueError\u001b[0m                                Traceback (most recent call last)",
      "\u001b[1;32m/workspaces/microns_phase3_nda/my_tests/tests.ipynb Cell 28\u001b[0m line \u001b[0;36m1\n\u001b[0;32m----> <a href='vscode-notebook-cell://dev-container%2B7b22686f737450617468223a22633a5c5c55736572735c5c6c697363615c5c4465736b746f705c5c546573695c5c636f64655c5c6d6963726f6e735f7068617365335f6e6461222c226c6f63616c446f636b6572223a66616c73652c22636f6e66696746696c65223a7b22246d6964223a312c22667350617468223a22633a5c5c55736572735c5c6c697363615c5c4465736b746f705c5c546573695c5c636f64655c5c6d6963726f6e735f7068617365335f6e64615c5c2e646576636f6e7461696e65725c5c6c6f63616c5c5c646576636f6e7461696e65722e6a736f6e222c225f736570223a312c2270617468223a222f633a2f55736572732f6c697363612f4465736b746f702f546573692f636f64652f6d6963726f6e735f7068617365335f6e64612f2e646576636f6e7461696e65722f6c6f63616c2f646576636f6e7461696e65722e6a736f6e222c22736368656d65223a2266696c65227d7d/workspaces/microns_phase3_nda/my_tests/tests.ipynb#Y116sdnNjb2RlLXJlbW90ZQ%3D%3D?line=0'>1</a>\u001b[0m np\u001b[39m.\u001b[39;49mwhere(oracle_traces[:,\u001b[39m1\u001b[39;49m,:] \u001b[39m>\u001b[39;49m\u001b[39m=\u001b[39;49m np\u001b[39m.\u001b[39;49mmedian(oracle_traces[:,\u001b[39m1\u001b[39;49m,:]), oracle_traces[:,\u001b[39m1\u001b[39;49m,:])\n",
      "File \u001b[0;32m<__array_function__ internals>:200\u001b[0m, in \u001b[0;36mwhere\u001b[0;34m(*args, **kwargs)\u001b[0m\n",
      "\u001b[0;31mValueError\u001b[0m: either both or neither of x and y should be given"
     ]
    }
   ],
   "source": [
    "np.where(oracle_traces[:,1,:] >= np.median(oracle_traces[:,1,:]))"
   ]
  },
  {
   "cell_type": "code",
   "execution_count": null,
   "metadata": {},
   "outputs": [
    {
     "data": {
      "image/png": "[encoded data removed]",
      "text/plain": [
       "<Figure size 640x480 with 1 Axes>"
      ]
     },
     "metadata": {},
     "output_type": "display_data"
    }
   ],
   "source": [
    "plt.eventplot(np.where(oracle_traces[:,1,:] >= np.median(oracle_traces[:,1,:])));"
   ]
  },
  {
   "cell_type": "code",
   "execution_count": null,
   "metadata": {},
   "outputs": [
    {
     "data": {
      "image/png": "[encoded data removed]",
      "text/plain": [
       "<Figure size 640x480 with 1 Axes>"
      ]
     },
     "metadata": {},
     "output_type": "display_data"
    }
   ],
   "source": [
    "plt.plot(oracle_traces[0, 1, :].T);"
   ]
  },
  {
   "cell_type": "code",
   "execution_count": null,
   "metadata": {},
   "outputs": [],
   "source": [
    "import os\n",
    "from tqdm.auto import tqdm"
   ]
  },
  {
   "cell_type": "code",
   "execution_count": null,
   "metadata": {},
   "outputs": [],
   "source": [
    "pair = (8,5)\n",
    "trials_clips = (nda.Trial*nda.Clip)\n",
    "os.makedirs(f'{pair[0]}_{pair[1]}_trials')"
   ]
  },
  {
   "cell_type": "code",
   "execution_count": null,
   "metadata": {},
   "outputs": [],
   "source": [
    "subset = (trials_clips & {'session':pair[0], 'scan_idx':pair[1]})\n",
    "trial_idxs = subset.fetch('trial_idx')\n",
    "sorted_trials = sorted(trial_idxs)"
   ]
  },
  {
   "cell_type": "code",
   "execution_count": null,
   "metadata": {},
   "outputs": [],
   "source": [
    "#Loading activity data\n",
    "#Generating list of dictionary with keys for all our cells so that we can subset nda.Activity\n",
    "act_keys = []\n",
    "pairs = [(4, 7), (5, 3), (5, 6),(5, 7),(6, 2),(6, 4),(6, 6),(6, 7),(7, 3),(7, 4),(7,5),(8,5)]\n",
    "\n",
    "for ses, sid, uid in zip(cell_id['session'], cell_id['scan_idx'], cell_id['unit_id']):\n",
    "    if (ses, sid) in pairs:\n",
    "        act_keys.append({'session':ses, 'scan_idx':sid,'unit_id':uid})\n",
    "\n",
    "#Subset nda.Activity\n",
    "red_activity = nda.Activity&act_keys\n",
    "\n",
    "#Load it as a DataFrame\n",
    "activity_df = red_activity.fetch(format = 'frame')\n",
    "activity_df = activity_df.reset_index()"
   ]
  },
  {
   "cell_type": "code",
   "execution_count": null,
   "metadata": {},
   "outputs": [],
   "source": [
    "activity_list = (activity_df['trace']).to_list()\n",
    "# activity_list = [act[:40000] for act in activity_list]"
   ]
  },
  {
   "cell_type": "code",
   "execution_count": null,
   "metadata": {},
   "outputs": [
    {
     "data": {
      "text/plain": [
       "{40000}"
      ]
     },
     "execution_count": 8,
     "metadata": {},
     "output_type": "execute_result"
    }
   ],
   "source": [
    "{act.size for act in activity_list}"
   ]
  },
  {
   "cell_type": "code",
   "execution_count": null,
   "metadata": {},
   "outputs": [],
   "source": [
    "activity_arr = np.stack(activity_list, axis=0)"
   ]
  },
  {
   "cell_type": "code",
   "execution_count": null,
   "metadata": {},
   "outputs": [],
   "source": [
    "corr = np.corrcoef(activity_arr[:5000,:])"
   ]
  },
  {
   "cell_type": "code",
   "execution_count": null,
   "metadata": {},
   "outputs": [
    {
     "data": {
      "text/plain": [
       "(50, 40000)"
      ]
     },
     "execution_count": 16,
     "metadata": {},
     "output_type": "execute_result"
    }
   ],
   "source": [
    "activity_arr[:50,:].shape"
   ]
  },
  {
   "cell_type": "code",
   "execution_count": null,
   "metadata": {},
   "outputs": [
    {
     "ename": "",
     "evalue": "",
     "output_type": "error",
     "traceback": [
      "\u001b[1;31mThe Kernel crashed while executing code in the the current cell or a previous cell. Please review the code in the cell(s) to identify a possible cause of the failure. Click <a href='https://aka.ms/vscodeJupyterKernelCrash'>here</a> for more info. View Jupyter <a href='command:jupyter.viewOutput'>log</a> for further details."
     ]
    }
   ],
   "source": [
    "sns.heatmap(corr);\n",
    "plt.tick_params(left = False, right = False , labelleft = False , \n",
    "                labelbottom = False, bottom = False)"
   ]
  },
  {
   "cell_type": "code",
   "execution_count": null,
   "metadata": {},
   "outputs": [
    {
     "data": {
      "image/png": "[encoded data removed]",
      "text/plain": [
       "<Figure size 640x480 with 1 Axes>"
      ]
     },
     "metadata": {},
     "output_type": "display_data"
    }
   ],
   "source": [
    "plt.plot(activity_arr.std(axis=0));"
   ]
  },
  {
   "cell_type": "code",
   "execution_count": null,
   "metadata": {},
   "outputs": [
    {
     "data": {
      "image/png": "[encoded data removed]",
      "text/plain": [
       "<Figure size 640x480 with 1 Axes>"
      ]
     },
     "metadata": {},
     "output_type": "display_data"
    }
   ],
   "source": [
    "plt.hist(activity_arr.min(axis=1), bins=300);"
   ]
  },
  {
   "cell_type": "code",
   "execution_count": null,
   "metadata": {},
   "outputs": [],
   "source": [
    "treadmill_df = (nda.Treadmill & act_keys).fetch(format='frame')\n",
    "treadmill_df = treadmill_df.reset_index()"
   ]
  },
  {
   "cell_type": "code",
   "execution_count": null,
   "metadata": {},
   "outputs": [],
   "source": [
    "treadmill_arr = np.stack(treadmill_df['treadmill_velocity'].to_list(), axis=0)"
   ]
  },
  {
   "cell_type": "code",
   "execution_count": null,
   "metadata": {},
   "outputs": [
    {
     "data": {
      "text/plain": [
       "(12, 40000)"
      ]
     },
     "execution_count": 60,
     "metadata": {},
     "output_type": "execute_result"
    }
   ],
   "source": [
    "(treadmill_arr).shape"
   ]
  },
  {
   "cell_type": "code",
   "execution_count": null,
   "metadata": {},
   "outputs": [],
   "source": [
    "pupil_df = (nda.ManualPupil & act_keys).fetch(format='frame')\n",
    "pupil_df = pupil_df.reset_index()"
   ]
  },
  {
   "cell_type": "code",
   "execution_count": null,
   "metadata": {},
   "outputs": [
    {
     "data": {
      "text/html": [
       "<div>\n",
       "<style scoped>\n",
       "    .dataframe tbody tr th:only-of-type {\n",
       "        vertical-align: middle;\n",
       "    }\n",
       "\n",
       "    .dataframe tbody tr th {\n",
       "        vertical-align: top;\n",
       "    }\n",
       "\n",
       "    .dataframe thead th {\n",
       "        text-align: right;\n",
       "    }\n",
       "</style>\n",
       "<table border=\"1\" class=\"dataframe\">\n",
       "  <thead>\n",
       "    <tr style=\"text-align: right;\">\n",
       "      <th></th>\n",
       "      <th>session</th>\n",
       "      <th>scan_idx</th>\n",
       "      <th>pupil_min_r</th>\n",
       "      <th>pupil_maj_r</th>\n",
       "      <th>pupil_x</th>\n",
       "      <th>pupil_y</th>\n",
       "    </tr>\n",
       "  </thead>\n",
       "  <tbody>\n",
       "    <tr>\n",
       "      <th>0</th>\n",
       "      <td>4</td>\n",
       "      <td>7</td>\n",
       "      <td>[nan, nan, nan, nan, nan, nan, nan, nan, 74.14...</td>\n",
       "      <td>[nan, nan, nan, nan, nan, nan, nan, nan, 86.76...</td>\n",
       "      <td>[nan, nan, nan, nan, nan, nan, nan, nan, 1346....</td>\n",
       "      <td>[nan, nan, nan, nan, nan, nan, nan, nan, 814.8...</td>\n",
       "    </tr>\n",
       "    <tr>\n",
       "      <th>1</th>\n",
       "      <td>5</td>\n",
       "      <td>3</td>\n",
       "      <td>[nan, nan, nan, nan, nan, nan, nan, nan, 56.05...</td>\n",
       "      <td>[nan, nan, nan, nan, nan, nan, nan, nan, 74.23...</td>\n",
       "      <td>[nan, nan, nan, nan, nan, nan, nan, nan, 1348....</td>\n",
       "      <td>[nan, nan, nan, nan, nan, nan, nan, nan, 750.0...</td>\n",
       "    </tr>\n",
       "    <tr>\n",
       "      <th>2</th>\n",
       "      <td>5</td>\n",
       "      <td>6</td>\n",
       "      <td>[nan, nan, nan, nan, nan, nan, nan, nan, 40.66...</td>\n",
       "      <td>[nan, nan, nan, nan, nan, nan, nan, nan, 82.24...</td>\n",
       "      <td>[nan, nan, nan, nan, nan, nan, nan, nan, 1353....</td>\n",
       "      <td>[nan, nan, nan, nan, nan, nan, nan, nan, 755.5...</td>\n",
       "    </tr>\n",
       "    <tr>\n",
       "      <th>3</th>\n",
       "      <td>5</td>\n",
       "      <td>7</td>\n",
       "      <td>[nan, nan, nan, nan, nan, nan, nan, nan, nan, ...</td>\n",
       "      <td>[nan, nan, nan, nan, nan, nan, nan, nan, nan, ...</td>\n",
       "      <td>[nan, nan, nan, nan, nan, nan, nan, nan, nan, ...</td>\n",
       "      <td>[nan, nan, nan, nan, nan, nan, nan, nan, nan, ...</td>\n",
       "    </tr>\n",
       "    <tr>\n",
       "      <th>4</th>\n",
       "      <td>6</td>\n",
       "      <td>2</td>\n",
       "      <td>[nan, nan, nan, nan, nan, nan, nan, nan, 27.90...</td>\n",
       "      <td>[nan, nan, nan, nan, nan, nan, nan, nan, 61.61...</td>\n",
       "      <td>[nan, nan, nan, nan, nan, nan, nan, nan, 1349....</td>\n",
       "      <td>[nan, nan, nan, nan, nan, nan, nan, nan, 763.7...</td>\n",
       "    </tr>\n",
       "    <tr>\n",
       "      <th>5</th>\n",
       "      <td>6</td>\n",
       "      <td>4</td>\n",
       "      <td>[nan, nan, nan, nan, nan, nan, nan, nan, 78.67...</td>\n",
       "      <td>[nan, nan, nan, nan, nan, nan, nan, nan, 85.99...</td>\n",
       "      <td>[nan, nan, nan, nan, nan, nan, nan, nan, 1359....</td>\n",
       "      <td>[nan, nan, nan, nan, nan, nan, nan, nan, 743.5...</td>\n",
       "    </tr>\n",
       "    <tr>\n",
       "      <th>6</th>\n",
       "      <td>6</td>\n",
       "      <td>6</td>\n",
       "      <td>[nan, nan, nan, nan, nan, nan, nan, nan, nan, ...</td>\n",
       "      <td>[nan, nan, nan, nan, nan, nan, nan, nan, nan, ...</td>\n",
       "      <td>[nan, nan, nan, nan, nan, nan, nan, nan, nan, ...</td>\n",
       "      <td>[nan, nan, nan, nan, nan, nan, nan, nan, nan, ...</td>\n",
       "    </tr>\n",
       "    <tr>\n",
       "      <th>7</th>\n",
       "      <td>6</td>\n",
       "      <td>7</td>\n",
       "      <td>[nan, nan, nan, nan, nan, nan, nan, nan, nan, ...</td>\n",
       "      <td>[nan, nan, nan, nan, nan, nan, nan, nan, nan, ...</td>\n",
       "      <td>[nan, nan, nan, nan, nan, nan, nan, nan, nan, ...</td>\n",
       "      <td>[nan, nan, nan, nan, nan, nan, nan, nan, nan, ...</td>\n",
       "    </tr>\n",
       "    <tr>\n",
       "      <th>8</th>\n",
       "      <td>7</td>\n",
       "      <td>3</td>\n",
       "      <td>[nan, nan, nan, nan, nan, nan, nan, 39.3340072...</td>\n",
       "      <td>[nan, nan, nan, nan, nan, nan, nan, 57.7080620...</td>\n",
       "      <td>[nan, nan, nan, nan, nan, nan, nan, 1070.90987...</td>\n",
       "      <td>[nan, nan, nan, nan, nan, nan, nan, 584.776968...</td>\n",
       "    </tr>\n",
       "    <tr>\n",
       "      <th>9</th>\n",
       "      <td>7</td>\n",
       "      <td>4</td>\n",
       "      <td>[nan, nan, nan, nan, nan, nan, nan, nan, 89.15...</td>\n",
       "      <td>[nan, nan, nan, nan, nan, nan, nan, nan, 96.88...</td>\n",
       "      <td>[nan, nan, nan, nan, nan, nan, nan, nan, 1064....</td>\n",
       "      <td>[nan, nan, nan, nan, nan, nan, nan, nan, 575.1...</td>\n",
       "    </tr>\n",
       "    <tr>\n",
       "      <th>10</th>\n",
       "      <td>7</td>\n",
       "      <td>5</td>\n",
       "      <td>[nan, nan, nan, nan, nan, nan, nan, 51.1526494...</td>\n",
       "      <td>[nan, nan, nan, nan, nan, nan, nan, 87.1809374...</td>\n",
       "      <td>[nan, nan, nan, nan, nan, nan, nan, 1066.95156...</td>\n",
       "      <td>[nan, nan, nan, nan, nan, nan, nan, 590.087264...</td>\n",
       "    </tr>\n",
       "    <tr>\n",
       "      <th>11</th>\n",
       "      <td>8</td>\n",
       "      <td>5</td>\n",
       "      <td>[nan, nan, nan, nan, nan, nan, nan, 87.1352089...</td>\n",
       "      <td>[nan, nan, nan, nan, nan, nan, nan, 95.9928732...</td>\n",
       "      <td>[nan, nan, nan, nan, nan, nan, nan, 1087.58746...</td>\n",
       "      <td>[nan, nan, nan, nan, nan, nan, nan, 713.251569...</td>\n",
       "    </tr>\n",
       "  </tbody>\n",
       "</table>\n",
       "</div>"
      ],
      "text/plain": [
       "    session  scan_idx                                        pupil_min_r  \\\n",
       "0         4         7  [nan, nan, nan, nan, nan, nan, nan, nan, 74.14...   \n",
       "1         5         3  [nan, nan, nan, nan, nan, nan, nan, nan, 56.05...   \n",
       "2         5         6  [nan, nan, nan, nan, nan, nan, nan, nan, 40.66...   \n",
       "3         5         7  [nan, nan, nan, nan, nan, nan, nan, nan, nan, ...   \n",
       "4         6         2  [nan, nan, nan, nan, nan, nan, nan, nan, 27.90...   \n",
       "5         6         4  [nan, nan, nan, nan, nan, nan, nan, nan, 78.67...   \n",
       "6         6         6  [nan, nan, nan, nan, nan, nan, nan, nan, nan, ...   \n",
       "7         6         7  [nan, nan, nan, nan, nan, nan, nan, nan, nan, ...   \n",
       "8         7         3  [nan, nan, nan, nan, nan, nan, nan, 39.3340072...   \n",
       "9         7         4  [nan, nan, nan, nan, nan, nan, nan, nan, 89.15...   \n",
       "10        7         5  [nan, nan, nan, nan, nan, nan, nan, 51.1526494...   \n",
       "11        8         5  [nan, nan, nan, nan, nan, nan, nan, 87.1352089...   \n",
       "\n",
       "                                          pupil_maj_r  \\\n",
       "0   [nan, nan, nan, nan, nan, nan, nan, nan, 86.76...   \n",
       "1   [nan, nan, nan, nan, nan, nan, nan, nan, 74.23...   \n",
       "2   [nan, nan, nan, nan, nan, nan, nan, nan, 82.24...   \n",
       "3   [nan, nan, nan, nan, nan, nan, nan, nan, nan, ...   \n",
       "4   [nan, nan, nan, nan, nan, nan, nan, nan, 61.61...   \n",
       "5   [nan, nan, nan, nan, nan, nan, nan, nan, 85.99...   \n",
       "6   [nan, nan, nan, nan, nan, nan, nan, nan, nan, ...   \n",
       "7   [nan, nan, nan, nan, nan, nan, nan, nan, nan, ...   \n",
       "8   [nan, nan, nan, nan, nan, nan, nan, 57.7080620...   \n",
       "9   [nan, nan, nan, nan, nan, nan, nan, nan, 96.88...   \n",
       "10  [nan, nan, nan, nan, nan, nan, nan, 87.1809374...   \n",
       "11  [nan, nan, nan, nan, nan, nan, nan, 95.9928732...   \n",
       "\n",
       "                                              pupil_x  \\\n",
       "0   [nan, nan, nan, nan, nan, nan, nan, nan, 1346....   \n",
       "1   [nan, nan, nan, nan, nan, nan, nan, nan, 1348....   \n",
       "2   [nan, nan, nan, nan, nan, nan, nan, nan, 1353....   \n",
       "3   [nan, nan, nan, nan, nan, nan, nan, nan, nan, ...   \n",
       "4   [nan, nan, nan, nan, nan, nan, nan, nan, 1349....   \n",
       "5   [nan, nan, nan, nan, nan, nan, nan, nan, 1359....   \n",
       "6   [nan, nan, nan, nan, nan, nan, nan, nan, nan, ...   \n",
       "7   [nan, nan, nan, nan, nan, nan, nan, nan, nan, ...   \n",
       "8   [nan, nan, nan, nan, nan, nan, nan, 1070.90987...   \n",
       "9   [nan, nan, nan, nan, nan, nan, nan, nan, 1064....   \n",
       "10  [nan, nan, nan, nan, nan, nan, nan, 1066.95156...   \n",
       "11  [nan, nan, nan, nan, nan, nan, nan, 1087.58746...   \n",
       "\n",
       "                                              pupil_y  \n",
       "0   [nan, nan, nan, nan, nan, nan, nan, nan, 814.8...  \n",
       "1   [nan, nan, nan, nan, nan, nan, nan, nan, 750.0...  \n",
       "2   [nan, nan, nan, nan, nan, nan, nan, nan, 755.5...  \n",
       "3   [nan, nan, nan, nan, nan, nan, nan, nan, nan, ...  \n",
       "4   [nan, nan, nan, nan, nan, nan, nan, nan, 763.7...  \n",
       "5   [nan, nan, nan, nan, nan, nan, nan, nan, 743.5...  \n",
       "6   [nan, nan, nan, nan, nan, nan, nan, nan, nan, ...  \n",
       "7   [nan, nan, nan, nan, nan, nan, nan, nan, nan, ...  \n",
       "8   [nan, nan, nan, nan, nan, nan, nan, 584.776968...  \n",
       "9   [nan, nan, nan, nan, nan, nan, nan, nan, 575.1...  \n",
       "10  [nan, nan, nan, nan, nan, nan, nan, 590.087264...  \n",
       "11  [nan, nan, nan, nan, nan, nan, nan, 713.251569...  "
      ]
     },
     "execution_count": 63,
     "metadata": {},
     "output_type": "execute_result"
    }
   ],
   "source": [
    "pupil_df"
   ]
  },
  {
   "cell_type": "code",
   "execution_count": null,
   "metadata": {},
   "outputs": [],
   "source": [
    "pupil_arr_maj = np.stack(pupil_df['pupil_maj_r'].to_list(), axis=0)\n",
    "pupil_arr_min = np.stack(pupil_df['pupil_min_r'].to_list(), axis=0)"
   ]
  },
  {
   "cell_type": "code",
   "execution_count": null,
   "metadata": {},
   "outputs": [
    {
     "data": {
      "text/plain": [
       "array([0.303225, 0.747   , 0.02655 , 0.100025, 0.024875, 0.03295 ,\n",
       "       0.0409  , 0.138575, 0.046725, 0.009675, 0.017025, 0.015   ])"
      ]
     },
     "execution_count": 79,
     "metadata": {},
     "output_type": "execute_result"
    }
   ],
   "source": [
    "np.isnan(pupil_arr_maj).sum(axis=1) / pupil_arr_maj.shape[1]"
   ]
  },
  {
   "cell_type": "code",
   "execution_count": null,
   "metadata": {},
   "outputs": [
    {
     "data": {
      "image/png": "[encoded data removed]",
      "text/plain": [
       "<Figure size 640x480 with 1 Axes>"
      ]
     },
     "metadata": {},
     "output_type": "display_data"
    }
   ],
   "source": [
    "idx = 4\n",
    "plt.plot(pupil_arr_maj[idx,:]);\n",
    "# plt.plot(pupil_arr_min[idx,:]);\n",
    "plt.plot((pupil_arr_min[idx,:] + pupil_arr_maj[idx,:])/2);"
   ]
  },
  {
   "cell_type": "code",
   "execution_count": null,
   "metadata": {},
   "outputs": [],
   "source": []
  }
 ],
 "metadata": {
  "kernelspec": {
   "display_name": "Python 3",
   "language": "python",
   "name": "python3"
  },
  "language_info": {
   "codemirror_mode": {
    "name": "ipython",
    "version": 3
   },
   "file_extension": ".py",
   "mimetype": "text/x-python",
   "name": "python",
   "nbconvert_exporter": "python",
   "pygments_lexer": "ipython3",
   "version": "3.9.18"
  }
 },
 "nbformat": 4,
 "nbformat_minor": 2
}
